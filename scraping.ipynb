{
 "cells": [
  {
   "cell_type": "code",
   "execution_count": 1,
   "metadata": {},
   "outputs": [],
   "source": [
    "import scraping_ID"
   ]
  },
  {
   "cell_type": "code",
   "execution_count": 5,
   "metadata": {},
   "outputs": [],
   "source": [
    "file = open('kompas_21_03_12:11', 'r')\n",
    "url_file = file.read().split(\"\\n\")\n",
    "url_files = list(set(url_file))\n",
    "\n",
    "dataset = [scraping_ID.get_articles_kompas(url) for url in url_files]"
   ]
  },
  {
   "cell_type": "code",
   "execution_count": 6,
   "metadata": {},
   "outputs": [],
   "source": [
    "scraping_ID.save_dump_file(dataset, name='kompas')"
   ]
  },
  {
   "cell_type": "code",
   "execution_count": 2,
   "metadata": {},
   "outputs": [],
   "source": [
    "file = open('detik.txt', 'r')\n",
    "url_file = file.read().split(\"\\n\")\n",
    "url_files = list(set(url_file))\n",
    "\n",
    "dataset = [scraping_ID.get_articles_detik(url) for url in url_files]"
   ]
  },
  {
   "cell_type": "code",
   "execution_count": 3,
   "metadata": {},
   "outputs": [
    {
     "data": {
      "text/plain": [
       "[{'title': 'Mahfud Md: Transaksi Digital Meningkat, Tindak Pencucian Uang Makin Variatif',\n",
       "  'description': 'Mahfud menyebut transaksi keuangan digital menjadi salah satu faktor terjadinya tindak pidana pencucian uang (TPPU), khususnya dari hasil korupsi.',\n",
       "  'url': 'https://news.detik.com/berita/d-5968292/mahfud-md-transaksi-digital-meningkat-tindak-pencucian-uang-makin-variatif',\n",
       "  'published_date': '2022-03-04T15-45-15Z',\n",
       "  'content': 'Selanjutnya, Mahfud lantas mengupayakan adanya pembangunan budaya antikorupsi di setiap sektor swasta. Selain itu, ada transparansi hingga kerja sama antarnegara untuk sama-sama mengurangi kejahatan tersebut. Mahfud menyebut pencucian uang menjadi salah satu isu yang mendunia. Pasalnya, tindakan tersebut menjadi salah satu kejahatan ekonomi yang berdampak pada ekonomi global. \"Ada banyak isu antikorupsi yang dapat dibahas, misalnya soal meningkatnya keterlibatan sektor swasta dalam membangun kultur antikorupsi, mendorong transparansi pada sektor publik, komitmen dan keseriusan dalam menangani kejahatan lintas negara mempertegas komitmen untuk meningkatkan kerja sama internasional dalam upaya mengurangi penyuapan atau bribery serta mendukung pemulihan asset-asset recovery,\" katanya. \"Di sinilah kemudian peran KPK maupun peran Pusat Pelaporan dan Analisis Transaksi Keuangan atau PPATK dalam kolaborasi global sangat diperlukan. Pengembalian aset hasil tindak pidana korupsi merupakan salah satu indikator keberhasilan upaya pemberantasan korupsi di Indonesia,\" ujarnya. \"Pencucian uang menjadi isu global penting yang dibahas karena merupakan transnational organize crime sehingga pencegahan dan pemberantasannya memerlukan kerja sama dengan negara lain,\" tambahnya. \"Data Bank Indonesia mencatat nilai transaksi uang elektronik rata-rata per bulan selama 2021 di Indonesia mencapai Rp 22 triliun. Meningkatnya transaksi keuangan digital menjadi salah satu penyebab meningkatnya kerentanan dan variasi tindakan pencucian uang, khususnya hasil tindak pidana korupsi,\" kata Mahfud dalam webinar \\'Kick-off G20\\' di YouTube KPK, Jumat (4/3/2022). Lebih lanjut, Mahfud menyebut KPK dan PPATK memiliki peran untuk berkolaborasi dengan negara lain. Hal itu guna memaksimalkan upaya pengembalian aset negara imbas tindakan para koruptor. \"Upaya tersebut dapat dilakukan dengan tetap memperhatikan kesesuaian dengan sistem hukum nasional masing-masing. Penguatan kerja sama lintas instansi dan lintas negara diharapkan dapat menjangkau tantangan untuk menyelamatkan aset hasil kejahatan secara optimal,\" sambungnya. Menteri Koordinator Bidang Politik, Hukum, dan Keamanan (Menko Polhukam) Mahfud Md mengatakan transaksi keuangan digital meningkat dari tahun ke tahun. Mahfud menyebut hal itu menjadi salah satu faktor terjadinya tindak pidana pencucian uang (TPPU), khususnya dari hasil korupsi. \"Salah satu isu menarik dalam penguatan dan reformasi tata kelola ekonomi global ini adalah isu terkait pemberantasan kejahatan ekonomi dan pencucian uang money laundry serta pendanaan terorisme,\" kata Mahfud.'}]"
      ]
     },
     "execution_count": 3,
     "metadata": {},
     "output_type": "execute_result"
    }
   ],
   "source": [
    "dataset"
   ]
  },
  {
   "cell_type": "code",
   "execution_count": null,
   "metadata": {},
   "outputs": [],
   "source": []
  }
 ],
 "metadata": {
  "interpreter": {
   "hash": "bd2bba1f0abd62882dfa9d8465ca304f17cc759b9753a8b197c7f4fc49e2b8f4"
  },
  "kernelspec": {
   "display_name": "Python 3.9.10 64-bit ('iben_env': conda)",
   "language": "python",
   "name": "python3"
  },
  "language_info": {
   "codemirror_mode": {
    "name": "ipython",
    "version": 3
   },
   "file_extension": ".py",
   "mimetype": "text/x-python",
   "name": "python",
   "nbconvert_exporter": "python",
   "pygments_lexer": "ipython3",
   "version": "3.9.10"
  },
  "orig_nbformat": 4
 },
 "nbformat": 4,
 "nbformat_minor": 2
}
