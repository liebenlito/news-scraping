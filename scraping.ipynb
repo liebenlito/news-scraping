{
 "cells": [
  {
   "cell_type": "code",
   "execution_count": 1,
   "metadata": {},
   "outputs": [],
   "source": [
    "import scraping_ID"
   ]
  },
  {
   "cell_type": "code",
   "execution_count": 5,
   "metadata": {},
   "outputs": [],
   "source": [
    "file = open('kompas_21_03_12:11', 'r')\n",
    "url_file = file.read().split(\"\\n\")\n",
    "url_files = list(set(url_file))\n",
    "\n",
    "dataset = [scraping_ID.get_articles_kompas(url) for url in url_files]"
   ]
  },
  {
   "cell_type": "code",
   "execution_count": 6,
   "metadata": {},
   "outputs": [],
   "source": [
    "scraping_ID.save_dump_file(dataset, name='kompas')"
   ]
  },
  {
   "cell_type": "code",
   "execution_count": null,
   "metadata": {},
   "outputs": [],
   "source": []
  }
 ],
 "metadata": {
  "interpreter": {
   "hash": "bd2bba1f0abd62882dfa9d8465ca304f17cc759b9753a8b197c7f4fc49e2b8f4"
  },
  "kernelspec": {
   "display_name": "Python 3.9.10 64-bit ('iben_env': conda)",
   "language": "python",
   "name": "python3"
  },
  "language_info": {
   "codemirror_mode": {
    "name": "ipython",
    "version": 3
   },
   "file_extension": ".py",
   "mimetype": "text/x-python",
   "name": "python",
   "nbconvert_exporter": "python",
   "pygments_lexer": "ipython3",
   "version": "3.9.10"
  },
  "orig_nbformat": 4
 },
 "nbformat": 4,
 "nbformat_minor": 2
}
