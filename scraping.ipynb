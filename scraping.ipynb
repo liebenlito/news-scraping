{
 "cells": [
  {
   "cell_type": "code",
   "execution_count": 24,
   "metadata": {},
   "outputs": [],
   "source": [
    "import requests\n",
    "from bs4 import BeautifulSoup\n",
    "import re"
   ]
  },
  {
   "cell_type": "code",
   "execution_count": 25,
   "metadata": {},
   "outputs": [],
   "source": [
    "def get_articles(url=\" \"):\n",
    "    res = requests.get(url)\n",
    "    \n",
    "    if res.status_code == 200: # Cek apakah bisa diakses\n",
    "        soup = BeautifulSoup(res.text, 'html.parser')\n",
    "        \n",
    "        # Ambil metadata\n",
    "        title = soup.find(\"meta\", property=\"og:title\")\n",
    "        description = soup.find(\"meta\", property=\"og:description\")\n",
    "        url = soup.find(\"meta\", property=\"og:url\")\n",
    "        published_date = soup.find(\"meta\", property=\"article:published_time\")\n",
    "\n",
    "        # Mencari class/div untuk isi berita\n",
    "        articles = soup.find(class_=\"read__content\")\n",
    "        articles.find(class_=\"clearfix\")\n",
    "        contents = articles.find_all(\"p\")\n",
    "        \n",
    "        items = list()\n",
    "        for item in contents:\n",
    "            items.append(item.text)\n",
    "\n",
    "        # Filter konten berita\n",
    "        r = re.compile(\".*Baca juga:\")\n",
    "        filter_items = list(filter(r.match, items))\n",
    "        filter_contents = list(set(items) - set(filter_items))\n",
    "\n",
    "        # Gabung elemen-elemen di list\n",
    "        filter_contents = \" \".join(filter_contents)\n",
    "\n",
    "        # Simpan data dalam dictionary\n",
    "        data = dict()\n",
    "        data = {'title': title[\"content\"],\n",
    "                'description': description[\"content\"],\n",
    "                'url': url[\"content\"],\n",
    "                'published_date': published_date[\"content\"],\n",
    "                'article': filter_contents\n",
    "                }\n",
    "        return data\n",
    "    \n",
    "    else:\n",
    "        return \"Artikel berita tidak dapat diakses.\"\n",
    "\n",
    "        "
   ]
  },
  {
   "cell_type": "code",
   "execution_count": 26,
   "metadata": {},
   "outputs": [],
   "source": [
    "file = open('kompas.txt', 'r')\n",
    "url_file = file.read().split(\"\\n\")\n",
    "url_files = list(set(url_file))\n",
    "\n",
    "dataset = list()\n",
    "dataset = [get_articles(url) for url in url_files]"
   ]
  },
  {
   "cell_type": "code",
   "execution_count": 38,
   "metadata": {},
   "outputs": [
    {
     "data": {
      "text/plain": [
       "103"
      ]
     },
     "execution_count": 38,
     "metadata": {},
     "output_type": "execute_result"
    }
   ],
   "source": [
    "len(dataset)"
   ]
  },
  {
   "cell_type": "code",
   "execution_count": null,
   "metadata": {},
   "outputs": [],
   "source": []
  }
 ],
 "metadata": {
  "interpreter": {
   "hash": "bd2bba1f0abd62882dfa9d8465ca304f17cc759b9753a8b197c7f4fc49e2b8f4"
  },
  "kernelspec": {
   "display_name": "Python 3.9.10 64-bit ('iben_env': conda)",
   "language": "python",
   "name": "python3"
  },
  "language_info": {
   "codemirror_mode": {
    "name": "ipython",
    "version": 3
   },
   "file_extension": ".py",
   "mimetype": "text/x-python",
   "name": "python",
   "nbconvert_exporter": "python",
   "pygments_lexer": "ipython3",
   "version": "3.9.10"
  },
  "orig_nbformat": 4
 },
 "nbformat": 4,
 "nbformat_minor": 2
}
